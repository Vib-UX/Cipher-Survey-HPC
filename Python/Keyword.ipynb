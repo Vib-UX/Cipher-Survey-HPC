{
 "cells": [
  {
   "cell_type": "markdown",
   "metadata": {},
   "source": [
    "# Entire Serial Implementation with Wordlist"
   ]
  },
  {
   "cell_type": "code",
   "execution_count": 7,
   "metadata": {
    "ExecuteTime": {
     "end_time": "2021-04-25T06:17:42.293803Z",
     "start_time": "2021-04-25T06:12:55.401379Z"
    }
   },
   "outputs": [
    {
     "name": "stdout",
     "output_type": "stream",
     "text": [
      "1. Encryption\n",
      "2. Decryption\n",
      "Choose(1,2): 1\n",
      "---Encrypting---\n",
      "Total number of words=  7871826\n",
      "Execution time=  284.6749155521393\n"
     ]
    }
   ],
   "source": [
    "import sys\n",
    "import time\n",
    "\n",
    "valid_letters='abcdefghijklmnopqrstuvwxyz'\n",
    "user_key='keywords'\n",
    "key=''\n",
    "\n",
    "cipher=[]\n",
    "for char in user_key:\n",
    "    if char in valid_letters:\n",
    "            key+=char\n",
    "for char in valid_letters:\n",
    "    if char not in key:\n",
    "        key+=char\n",
    "        \n",
    "def encrypt(clear_text):\n",
    "    new_string=''\n",
    "    for char in clear_text:\n",
    "        if char in valid_letters:\n",
    "            new_string+=char\n",
    "    index_values=[valid_letters.index(char) for char in new_string]\n",
    "    return \"\".join(key[indexkey] for indexkey in index_values)\n",
    "\n",
    "def decrypt(encrypted_text):\n",
    "    new_string=''\n",
    "    for char in encrypted_text:\n",
    "        if char in valid_letters:\n",
    "            new_string+=char\n",
    "    index_values=[key.index(char) for char in new_string]\n",
    "    print(index_values)\n",
    "    return \"\".join(valid_letters[indexkey] for indexkey in index_values)\n",
    "\n",
    "\n",
    "\n",
    "def main():     \n",
    "\n",
    "    choice = int(input(\"1. Encryption\\n2. Decryption\\nChoose(1,2): \"))\n",
    "    \n",
    "    if choice == 1:\n",
    "        start_time = time.time()\n",
    "        print(\"---Encrypting---\")\n",
    "        with open('Datasets/bigdataset.txt','r') as file:\n",
    "            enc=[encrypt(word) for word in file.read().split()]\n",
    "        end_time=time.time()\n",
    "        print(\"Total number of words= \",len(enc))\n",
    "        print(\"Execution time= \",end_time-start_time)\n",
    "\n",
    "    elif choice == 2:\n",
    "        start_time = time.time()\n",
    "        print(\"---Decrypting---\")\n",
    "        with open('dataset.txt','r') as file:\n",
    "            dec=[decrypt(word) for word in file.read().split()]\n",
    "        end_time=time.time()\n",
    "        print(\"Total number of words= \",len(dec))\n",
    "        print(\"Execution time= \",end_time-start_time)\n",
    "    else:\n",
    "        print(\"Incorrect Choice\")\n",
    "\n",
    "if __name__ == \"__main__\":\n",
    "    main()"
   ]
  },
  {
   "cell_type": "markdown",
   "metadata": {},
   "source": [
    "# Joblib"
   ]
  },
  {
   "cell_type": "code",
   "execution_count": 8,
   "metadata": {
    "ExecuteTime": {
     "end_time": "2021-04-25T06:19:44.912226Z",
     "start_time": "2021-04-25T06:17:48.285199Z"
    }
   },
   "outputs": [
    {
     "name": "stdout",
     "output_type": "stream",
     "text": [
      "1. Encryption\n",
      "2. Decryption\n",
      "Choose(1,2): 1\n",
      "---Encrypting---\n",
      "Execution time=  115.08002305030823\n"
     ]
    }
   ],
   "source": [
    "import sys\n",
    "import time\n",
    "import joblib\n",
    "import dask.dataframe as dd\n",
    "from joblib import Parallel, delayed\n",
    "\n",
    "valid_letters='abcdefghijklmnopqrstuvwxyz'\n",
    "user_key='keywords'\n",
    "key=''\n",
    "\n",
    "cipher=[]\n",
    "for char in user_key:\n",
    "    if char in valid_letters:\n",
    "            key+=char\n",
    "for char in valid_letters:\n",
    "    if char not in key:\n",
    "        key+=char\n",
    "        \n",
    "def encrypt(clear_text):\n",
    "    new_string=''\n",
    "    for char in clear_text:\n",
    "        if char in valid_letters:\n",
    "            new_string+=char\n",
    "    index_values=[valid_letters.index(char) for char in new_string]\n",
    "    return \"\".join(key[indexkey] for indexkey in index_values)\n",
    "\n",
    "def decrypt(encrypted_text):\n",
    "    new_string=''\n",
    "    for char in encrypted_text:\n",
    "        if char in valid_letters:\n",
    "            new_string+=char\n",
    "    index_values=[key.index(char) for char in new_string]\n",
    "    print(index_values)\n",
    "    return \"\".join(valid_letters[indexkey] for indexkey in index_values)\n",
    "\n",
    "\n",
    "def main():     \n",
    "    choice = int(input(\"1. Encryption\\n2. Decryption\\nChoose(1,2): \"))\n",
    "    \n",
    "    if choice == 1:\n",
    "        start_time = time.time()\n",
    "        print(\"---Encrypting---\")\n",
    "        with open('Datasets/bigdataset.txt','r') as file:\n",
    "            Parallel(8)(delayed(encrypt)(word) for word in file.read().split())\n",
    "        end_time=time.time()\n",
    "        print(\"Execution time= \",end_time-start_time)\n",
    "\n",
    "    elif choice == 2:\n",
    "        start_time = time.time()\n",
    "        print(\"---Decrypting---\")        \n",
    "        with open('Datasets/bigdataset.txt','r') as file:\n",
    "            Parallel(8)(delayed(decrypt)(word) for word in file.read().split())\n",
    "        end_time=time.time()\n",
    "        print(\"Execution time= \",end_time-start_time)\n",
    "    else:\n",
    "        print(\"Incorrect Choice\")\n",
    "\n",
    "if __name__ == \"__main__\":\n",
    "    main()"
   ]
  },
  {
   "cell_type": "markdown",
   "metadata": {
    "ExecuteTime": {
     "start_time": "2021-04-11T11:56:27.193Z"
    }
   },
   "source": [
    "# Dask Dataframe Implementation (Joblibs)"
   ]
  },
  {
   "cell_type": "markdown",
   "metadata": {},
   "source": [
    "#### Dask Client Setup"
   ]
  },
  {
   "cell_type": "code",
   "execution_count": 2,
   "metadata": {
    "ExecuteTime": {
     "end_time": "2021-04-15T13:05:24.943793Z",
     "start_time": "2021-04-15T13:05:23.243829Z"
    }
   },
   "outputs": [
    {
     "data": {
      "text/html": [
       "<table style=\"border: 2px solid white;\">\n",
       "<tr>\n",
       "<td style=\"vertical-align: top; border: 0px solid white\">\n",
       "<h3 style=\"text-align: left;\">Client</h3>\n",
       "<ul style=\"text-align: left; list-style: none; margin: 0; padding: 0;\">\n",
       "  <li><b>Scheduler: </b>inproc://192.168.0.110/1688/1</li>\n",
       "  <li><b>Dashboard: </b><a href='http://192.168.0.110:8787/status' target='_blank'>http://192.168.0.110:8787/status</a></li>\n",
       "</ul>\n",
       "</td>\n",
       "<td style=\"vertical-align: top; border: 0px solid white\">\n",
       "<h3 style=\"text-align: left;\">Cluster</h3>\n",
       "<ul style=\"text-align: left; list-style:none; margin: 0; padding: 0;\">\n",
       "  <li><b>Workers: </b>8</li>\n",
       "  <li><b>Cores: </b>8</li>\n",
       "  <li><b>Memory: </b>17.04 GB</li>\n",
       "</ul>\n",
       "</td>\n",
       "</tr>\n",
       "</table>"
      ],
      "text/plain": [
       "<Client: 'inproc://192.168.0.110/1688/1' processes=8 threads=8, memory=17.04 GB>"
      ]
     },
     "execution_count": 2,
     "metadata": {},
     "output_type": "execute_result"
    }
   ],
   "source": [
    "import dask.dataframe as dd\n",
    "import dask\n",
    "from dask.distributed import Client, progress\n",
    "client = Client(threads_per_worker=1, n_workers=8)\n",
    "client"
   ]
  },
  {
   "cell_type": "code",
   "execution_count": 12,
   "metadata": {
    "ExecuteTime": {
     "end_time": "2021-04-25T06:24:09.099302Z",
     "start_time": "2021-04-25T06:22:17.755569Z"
    }
   },
   "outputs": [
    {
     "name": "stdout",
     "output_type": "stream",
     "text": [
      "Execution time=  111.31175136566162\n",
      "Wall time: 1min 51s\n"
     ]
    }
   ],
   "source": [
    "%%time\n",
    "\n",
    "import dask.dataframe as dd\n",
    "from joblib import Parallel,delayed\n",
    "valid_letters='abcdefghijklmnopqrstuvwxyz'\n",
    "user_key='keyword'\n",
    "key=''\n",
    "\n",
    "cipher=[]\n",
    "for char in user_key:\n",
    "    if char in valid_letters:\n",
    "            key+=char\n",
    "for char in valid_letters:\n",
    "    if char not in key:\n",
    "        key+=char\n",
    "        \n",
    "def encrypt(clear_text):\n",
    "    new_string=''\n",
    "    for char in clear_text:\n",
    "        if char in valid_letters:\n",
    "            new_string+=char\n",
    "    index_values=[valid_letters.index(char) for char in new_string]\n",
    "    return \"\".join(key[indexkey] for indexkey in index_values)\n",
    "\n",
    "words=dd.read_csv('Datasets/bigdataset.txt').repartition(npartitions=8)\n",
    "start_time = time.time()\n",
    "x=Parallel(8)(delayed(encrypt)(str(word)) for word in words['abcd'])        \n",
    "print(\"Execution time= \",time.time()-start_time)"
   ]
  },
  {
   "cell_type": "markdown",
   "metadata": {},
   "source": [
    "## Numpy"
   ]
  },
  {
   "cell_type": "code",
   "execution_count": 3,
   "metadata": {
    "ExecuteTime": {
     "end_time": "2021-04-26T11:22:19.979231Z",
     "start_time": "2021-04-26T11:22:19.919179Z"
    }
   },
   "outputs": [
    {
     "ename": "UnsupportedError",
     "evalue": "Failed in nopython mode pipeline (step: inline calls to locally defined closures)\n\u001b[1mThe use of yield in a closure is unsupported.\n\u001b[1m\nFile \"<ipython-input-3-e90d017a851c>\", line 26:\u001b[0m\n\u001b[1mdef final():\n    <source elided>\n        index_values=[valid_letters.index(char) for char in new_string]\n\u001b[1m        enc=\"\".join(key[indexkey] for indexkey in index_values)\n\u001b[0m        \u001b[1m^\u001b[0m\u001b[0m\n\u001b[0m",
     "output_type": "error",
     "traceback": [
      "\u001b[1;31m---------------------------------------------------------------------------\u001b[0m",
      "\u001b[1;31mUnsupportedError\u001b[0m                          Traceback (most recent call last)",
      "\u001b[1;32m<ipython-input-3-e90d017a851c>\u001b[0m in \u001b[0;36m<module>\u001b[1;34m\u001b[0m\n\u001b[0;32m     28\u001b[0m \u001b[1;33m\u001b[0m\u001b[0m\n\u001b[0;32m     29\u001b[0m \u001b[0mt\u001b[0m\u001b[1;33m=\u001b[0m\u001b[0mtime\u001b[0m\u001b[1;33m.\u001b[0m\u001b[0mtime\u001b[0m\u001b[1;33m(\u001b[0m\u001b[1;33m)\u001b[0m\u001b[1;33m\u001b[0m\u001b[1;33m\u001b[0m\u001b[0m\n\u001b[1;32m---> 30\u001b[1;33m \u001b[0mfinal\u001b[0m\u001b[1;33m(\u001b[0m\u001b[1;33m)\u001b[0m\u001b[1;33m\u001b[0m\u001b[1;33m\u001b[0m\u001b[0m\n\u001b[0m\u001b[0;32m     31\u001b[0m \u001b[0mprint\u001b[0m\u001b[1;33m(\u001b[0m\u001b[0mtime\u001b[0m\u001b[1;33m.\u001b[0m\u001b[0mtime\u001b[0m\u001b[1;33m(\u001b[0m\u001b[1;33m)\u001b[0m\u001b[1;33m-\u001b[0m\u001b[0mt\u001b[0m\u001b[1;33m)\u001b[0m\u001b[1;33m\u001b[0m\u001b[1;33m\u001b[0m\u001b[0m\n",
      "\u001b[1;32mC:\\ProgramData\\Anaconda3\\lib\\site-packages\\numba\\core\\dispatcher.py\u001b[0m in \u001b[0;36m_compile_for_args\u001b[1;34m(self, *args, **kws)\u001b[0m\n\u001b[0;32m    416\u001b[0m         \u001b[1;32mexcept\u001b[0m \u001b[0merrors\u001b[0m\u001b[1;33m.\u001b[0m\u001b[0mUnsupportedError\u001b[0m \u001b[1;32mas\u001b[0m \u001b[0me\u001b[0m\u001b[1;33m:\u001b[0m\u001b[1;33m\u001b[0m\u001b[1;33m\u001b[0m\u001b[0m\n\u001b[0;32m    417\u001b[0m             \u001b[1;31m# Something unsupported is present in the user code, add help info\u001b[0m\u001b[1;33m\u001b[0m\u001b[1;33m\u001b[0m\u001b[1;33m\u001b[0m\u001b[0m\n\u001b[1;32m--> 418\u001b[1;33m             \u001b[0merror_rewrite\u001b[0m\u001b[1;33m(\u001b[0m\u001b[0me\u001b[0m\u001b[1;33m,\u001b[0m \u001b[1;34m'unsupported_error'\u001b[0m\u001b[1;33m)\u001b[0m\u001b[1;33m\u001b[0m\u001b[1;33m\u001b[0m\u001b[0m\n\u001b[0m\u001b[0;32m    419\u001b[0m         except (errors.NotDefinedError, errors.RedefinedError,\n\u001b[0;32m    420\u001b[0m                 errors.VerificationError) as e:\n",
      "\u001b[1;32mC:\\ProgramData\\Anaconda3\\lib\\site-packages\\numba\\core\\dispatcher.py\u001b[0m in \u001b[0;36merror_rewrite\u001b[1;34m(e, issue_type)\u001b[0m\n\u001b[0;32m    356\u001b[0m                 \u001b[1;32mraise\u001b[0m \u001b[0me\u001b[0m\u001b[1;33m\u001b[0m\u001b[1;33m\u001b[0m\u001b[0m\n\u001b[0;32m    357\u001b[0m             \u001b[1;32melse\u001b[0m\u001b[1;33m:\u001b[0m\u001b[1;33m\u001b[0m\u001b[1;33m\u001b[0m\u001b[0m\n\u001b[1;32m--> 358\u001b[1;33m                 \u001b[0mreraise\u001b[0m\u001b[1;33m(\u001b[0m\u001b[0mtype\u001b[0m\u001b[1;33m(\u001b[0m\u001b[0me\u001b[0m\u001b[1;33m)\u001b[0m\u001b[1;33m,\u001b[0m \u001b[0me\u001b[0m\u001b[1;33m,\u001b[0m \u001b[1;32mNone\u001b[0m\u001b[1;33m)\u001b[0m\u001b[1;33m\u001b[0m\u001b[1;33m\u001b[0m\u001b[0m\n\u001b[0m\u001b[0;32m    359\u001b[0m \u001b[1;33m\u001b[0m\u001b[0m\n\u001b[0;32m    360\u001b[0m         \u001b[0margtypes\u001b[0m \u001b[1;33m=\u001b[0m \u001b[1;33m[\u001b[0m\u001b[1;33m]\u001b[0m\u001b[1;33m\u001b[0m\u001b[1;33m\u001b[0m\u001b[0m\n",
      "\u001b[1;32mC:\\ProgramData\\Anaconda3\\lib\\site-packages\\numba\\core\\utils.py\u001b[0m in \u001b[0;36mreraise\u001b[1;34m(tp, value, tb)\u001b[0m\n\u001b[0;32m     78\u001b[0m         \u001b[0mvalue\u001b[0m \u001b[1;33m=\u001b[0m \u001b[0mtp\u001b[0m\u001b[1;33m(\u001b[0m\u001b[1;33m)\u001b[0m\u001b[1;33m\u001b[0m\u001b[1;33m\u001b[0m\u001b[0m\n\u001b[0;32m     79\u001b[0m     \u001b[1;32mif\u001b[0m \u001b[0mvalue\u001b[0m\u001b[1;33m.\u001b[0m\u001b[0m__traceback__\u001b[0m \u001b[1;32mis\u001b[0m \u001b[1;32mnot\u001b[0m \u001b[0mtb\u001b[0m\u001b[1;33m:\u001b[0m\u001b[1;33m\u001b[0m\u001b[1;33m\u001b[0m\u001b[0m\n\u001b[1;32m---> 80\u001b[1;33m         \u001b[1;32mraise\u001b[0m \u001b[0mvalue\u001b[0m\u001b[1;33m.\u001b[0m\u001b[0mwith_traceback\u001b[0m\u001b[1;33m(\u001b[0m\u001b[0mtb\u001b[0m\u001b[1;33m)\u001b[0m\u001b[1;33m\u001b[0m\u001b[1;33m\u001b[0m\u001b[0m\n\u001b[0m\u001b[0;32m     81\u001b[0m     \u001b[1;32mraise\u001b[0m \u001b[0mvalue\u001b[0m\u001b[1;33m\u001b[0m\u001b[1;33m\u001b[0m\u001b[0m\n\u001b[0;32m     82\u001b[0m \u001b[1;33m\u001b[0m\u001b[0m\n",
      "\u001b[1;31mUnsupportedError\u001b[0m: Failed in nopython mode pipeline (step: inline calls to locally defined closures)\n\u001b[1mThe use of yield in a closure is unsupported.\n\u001b[1m\nFile \"<ipython-input-3-e90d017a851c>\", line 26:\u001b[0m\n\u001b[1mdef final():\n    <source elided>\n        index_values=[valid_letters.index(char) for char in new_string]\n\u001b[1m        enc=\"\".join(key[indexkey] for indexkey in index_values)\n\u001b[0m        \u001b[1m^\u001b[0m\u001b[0m\n\u001b[0m"
     ]
    }
   ],
   "source": [
    "import time\n",
    "import numpy as np\n",
    "from numba import jit\n",
    "\n",
    "@jit(nopython=True,nogil=True)\n",
    "def final():\n",
    "    x=np.loadtxt(r'C:\\Users\\RAGHAV VERMA\\Documents\\JupyterStuff\\CipherSurvey\\Python\\Datasets\\smalldataset.txt',dtype=str)\n",
    "    valid_letters='abcdefghijklmnopqrstuvwxyz'\n",
    "    user_key='keyword'\n",
    "    key=''\n",
    "\n",
    "    cipher=[]\n",
    "    for char in user_key:\n",
    "        if char in valid_letters:\n",
    "                key+=char\n",
    "    for char in valid_letters:\n",
    "        if char not in key:\n",
    "            key+=char\n",
    "\n",
    "    for word in np.nditer(x):\n",
    "        new_string=''\n",
    "        for char in str(word):\n",
    "            if char in valid_letters:\n",
    "                new_string+=char\n",
    "        index_values=[valid_letters.index(char) for char in new_string]\n",
    "        enc=\"\".join(key[indexkey] for indexkey in index_values)\n",
    "        \n",
    "        \n",
    "t=time.time()\n",
    "final()\n",
    "print(time.time()-t)"
   ]
  },
  {
   "cell_type": "code",
   "execution_count": null,
   "metadata": {},
   "outputs": [],
   "source": []
  }
 ],
 "metadata": {
  "kernelspec": {
   "display_name": "Python 3",
   "language": "python",
   "name": "python3"
  },
  "language_info": {
   "codemirror_mode": {
    "name": "ipython",
    "version": 3
   },
   "file_extension": ".py",
   "mimetype": "text/x-python",
   "name": "python",
   "nbconvert_exporter": "python",
   "pygments_lexer": "ipython3",
   "version": "3.8.5"
  },
  "varInspector": {
   "cols": {
    "lenName": 16,
    "lenType": 16,
    "lenVar": 40
   },
   "kernels_config": {
    "python": {
     "delete_cmd_postfix": "",
     "delete_cmd_prefix": "del ",
     "library": "var_list.py",
     "varRefreshCmd": "print(var_dic_list())"
    },
    "r": {
     "delete_cmd_postfix": ") ",
     "delete_cmd_prefix": "rm(",
     "library": "var_list.r",
     "varRefreshCmd": "cat(var_dic_list()) "
    }
   },
   "types_to_exclude": [
    "module",
    "function",
    "builtin_function_or_method",
    "instance",
    "_Feature"
   ],
   "window_display": true
  }
 },
 "nbformat": 4,
 "nbformat_minor": 4
}
