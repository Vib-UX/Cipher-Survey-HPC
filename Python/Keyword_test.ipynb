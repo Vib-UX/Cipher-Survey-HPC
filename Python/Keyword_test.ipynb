{
 "cells": [
  {
   "cell_type": "markdown",
   "metadata": {},
   "source": [
    "# Bigger Dataset\n"
   ]
  },
  {
   "cell_type": "markdown",
   "metadata": {},
   "source": [
    "# Serial Implementation"
   ]
  },
  {
   "cell_type": "code",
   "execution_count": 23,
   "metadata": {},
   "outputs": [
    {
     "name": "stdout",
     "output_type": "stream",
     "text": [
      "Wall time: 4min 21s\n"
     ]
    }
   ],
   "source": [
    "%%time\n",
    "valid_letters='abcdefghijklmnopqrstuvwxyz'\n",
    "user_key='keyword'\n",
    "key=''\n",
    "\n",
    "cipher=[]\n",
    "for char in user_key:\n",
    "    if char in valid_letters:\n",
    "            key+=char\n",
    "for char in valid_letters:\n",
    "    if char not in key:\n",
    "        key+=char\n",
    "        \n",
    "def encrypt(clear_text):\n",
    "    new_string=''\n",
    "    for char in clear_text:\n",
    "        if char in valid_letters:\n",
    "            new_string+=char\n",
    "    index_values=[valid_letters.index(char) for char in new_string]\n",
    "    return \"\".join(key[indexkey] for indexkey in index_values)\n",
    "with open('tempdataset.txt','r') as file:\n",
    "    for word in file.read().split():\n",
    "        encrypt(word.lower())\n",
    "\n"
   ]
  },
  {
   "cell_type": "markdown",
   "metadata": {},
   "source": [
    "# Joblib"
   ]
  },
  {
   "cell_type": "code",
   "execution_count": 24,
   "metadata": {},
   "outputs": [
    {
     "name": "stdout",
     "output_type": "stream",
     "text": [
      "Wall time: 2min 5s\n"
     ]
    }
   ],
   "source": [
    "%%time\n",
    "from joblib import Parallel,delayed\n",
    "valid_letters='abcdefghijklmnopqrstuvwxyz'\n",
    "user_key='keyword'\n",
    "key=''\n",
    "\n",
    "cipher=[]\n",
    "for char in user_key:\n",
    "    if char in valid_letters:\n",
    "            key+=char\n",
    "for char in valid_letters:\n",
    "    if char not in key:\n",
    "        key+=char\n",
    "        \n",
    "def encrypt(clear_text):\n",
    "    new_string=''\n",
    "    for char in clear_text:\n",
    "        if char in valid_letters:\n",
    "            new_string+=char\n",
    "    index_values=[valid_letters.index(char) for char in new_string]\n",
    "    return \"\".join(key[indexkey] for indexkey in index_values)\n",
    "with open('tempdataset.txt','r') as file:\n",
    "            Parallel(12)(delayed(encrypt)(word) for word in file.read().split())        "
   ]
  },
  {
   "cell_type": "markdown",
   "metadata": {},
   "source": [
    "# Joblib with dask dataframe\n"
   ]
  },
  {
   "cell_type": "code",
   "execution_count": 26,
   "metadata": {},
   "outputs": [
    {
     "name": "stdout",
     "output_type": "stream",
     "text": [
      "Wall time: 1min 35s\n"
     ]
    }
   ],
   "source": [
    "%%time\n",
    "\n",
    "import dask.dataframe as dd\n",
    "from joblib import Parallel,delayed\n",
    "valid_letters='abcdefghijklmnopqrstuvwxyz'\n",
    "user_key='keyword'\n",
    "key=''\n",
    "\n",
    "cipher=[]\n",
    "for char in user_key:\n",
    "    if char in valid_letters:\n",
    "            key+=char\n",
    "for char in valid_letters:\n",
    "    if char not in key:\n",
    "        key+=char\n",
    "        \n",
    "def encrypt(clear_text):\n",
    "    new_string=''\n",
    "    for char in clear_text:\n",
    "        if char in valid_letters:\n",
    "            new_string+=char\n",
    "    index_values=[valid_letters.index(char) for char in new_string]\n",
    "    return \"\".join(key[indexkey] for indexkey in index_values)\n",
    "\n",
    "words=dd.read_csv('tempdataset.txt').repartition(npartitions=12)\n",
    "x=Parallel(12)(delayed(encrypt)(str(word)) for word in words['abcd'])        \n",
    "    "
   ]
  },
  {
   "cell_type": "markdown",
   "metadata": {},
   "source": [
    "# Dask Bags with Joblibs"
   ]
  },
  {
   "cell_type": "code",
   "execution_count": null,
   "metadata": {},
   "outputs": [],
   "source": [
    "%%time\n",
    "\n",
    "import dask.dataframe as dd\n",
    "from joblib import Parallel,delayed\n",
    "valid_letters='abcdefghijklmnopqrstuvwxyz'\n",
    "user_key='keyword'\n",
    "key=''\n",
    "\n",
    "cipher=[]\n",
    "for char in user_key:\n",
    "    if char in valid_letters:\n",
    "            key+=char\n",
    "for char in valid_letters:\n",
    "    if char not in key:\n",
    "        key+=char\n",
    "        \n",
    "def encrypt(clear_text):\n",
    "    new_string=''\n",
    "    for char in clear_text:\n",
    "        if char in valid_letters:\n",
    "            new_string+=char\n",
    "    index_values=[valid_letters.index(char) for char in new_string]\n",
    "    return \"\".join(key[indexkey] for indexkey in index_values)\n",
    "\n",
    "words=db.from_sequence(read_text('Datasets/largedataset.txt'),npartitions=256)\n",
    "x=Parallel(8)(delayed(encrypt)(str(word)) for word in words)        \n",
    "    "
   ]
  },
  {
   "cell_type": "markdown",
   "metadata": {},
   "source": [
    "# Smaller Dataset"
   ]
  },
  {
   "cell_type": "markdown",
   "metadata": {},
   "source": [
    "# Serial implementation"
   ]
  },
  {
   "cell_type": "code",
   "execution_count": 7,
   "metadata": {
    "ExecuteTime": {
     "end_time": "2021-04-25T05:57:57.203413Z",
     "start_time": "2021-04-25T05:57:08.842756Z"
    }
   },
   "outputs": [
    {
     "name": "stdout",
     "output_type": "stream",
     "text": [
      "Wall time: 48.3 s\n"
     ]
    }
   ],
   "source": [
    "%%time\n",
    "valid_letters='abcdefghijklmnopqrstuvwxyz'\n",
    "user_key='keyword'\n",
    "key=''\n",
    "\n",
    "cipher=[]\n",
    "for char in user_key:\n",
    "    if char in valid_letters:\n",
    "            key+=char\n",
    "for char in valid_letters:\n",
    "    if char not in key:\n",
    "        key+=char\n",
    "        \n",
    "def encrypt(clear_text):\n",
    "    new_string=''\n",
    "    for char in clear_text:\n",
    "        if char in valid_letters:\n",
    "            new_string+=char\n",
    "    index_values=[valid_letters.index(char) for char in new_string]\n",
    "    return \"\".join(key[indexkey] for indexkey in index_values)\n",
    "with open('Datasets/smalldataset.txt','r') as file:\n",
    "    for word in file.read().split():\n",
    "        encrypt(word.lower())\n",
    "\n"
   ]
  },
  {
   "cell_type": "code",
   "execution_count": null,
   "metadata": {},
   "outputs": [],
   "source": []
  },
  {
   "cell_type": "markdown",
   "metadata": {},
   "source": [
    "# Joblib"
   ]
  },
  {
   "cell_type": "code",
   "execution_count": 3,
   "metadata": {},
   "outputs": [
    {
     "name": "stdout",
     "output_type": "stream",
     "text": [
      "Wall time: 1min 47s\n"
     ]
    }
   ],
   "source": [
    "%%time\n",
    "from joblib import Parallel,delayed\n",
    "valid_letters='abcdefghijklmnopqrstuvwxyz'\n",
    "user_key='keyword'\n",
    "key=''\n",
    "\n",
    "cipher=[]\n",
    "for char in user_key:\n",
    "    if char in valid_letters:\n",
    "            key+=char\n",
    "for char in valid_letters:\n",
    "    if char not in key:\n",
    "        key+=char\n",
    "        \n",
    "def encrypt(clear_text):\n",
    "    new_string=''\n",
    "    for char in clear_text:\n",
    "        if char in valid_letters:\n",
    "            new_string+=char\n",
    "    index_values=[valid_letters.index(char) for char in new_string]\n",
    "    return \"\".join(key[indexkey] for indexkey in index_values)\n",
    "with open('dataset.txt','r') as file:\n",
    "            Parallel(12)(delayed(encrypt)(word) for word in file.read().split())        "
   ]
  },
  {
   "cell_type": "markdown",
   "metadata": {},
   "source": [
    "# Joblib with dask dataframe\n",
    "\n"
   ]
  },
  {
   "cell_type": "code",
   "execution_count": 22,
   "metadata": {
    "scrolled": false
   },
   "outputs": [
    {
     "name": "stdout",
     "output_type": "stream",
     "text": [
      "Wall time: 1min 19s\n"
     ]
    }
   ],
   "source": [
    "%%time\n",
    "\n",
    "import dask.dataframe as dd\n",
    "from joblib import Parallel,delayed\n",
    "valid_letters='abcdefghijklmnopqrstuvwxyz'\n",
    "user_key='keyword'\n",
    "key=''\n",
    "\n",
    "cipher=[]\n",
    "for char in user_key:\n",
    "    if char in valid_letters:\n",
    "            key+=char\n",
    "for char in valid_letters:\n",
    "    if char not in key:\n",
    "        key+=char\n",
    "        \n",
    "def encrypt(clear_text):\n",
    "    new_string=''\n",
    "    for char in clear_text:\n",
    "        if char in valid_letters:\n",
    "            new_string+=char\n",
    "    index_values=[valid_letters.index(char) for char in new_string]\n",
    "    return \"\".join(key[indexkey] for indexkey in index_values)\n",
    "\n",
    "words=dd.read_csv('dataset.txt').repartition(npartitions=12)\n",
    "x=Parallel(12)(delayed(encrypt)(str(word)) for word in words['password'])        \n",
    "    "
   ]
  },
  {
   "cell_type": "markdown",
   "metadata": {},
   "source": [
    "# Encryption"
   ]
  },
  {
   "cell_type": "markdown",
   "metadata": {},
   "source": [
    "# Serial"
   ]
  },
  {
   "cell_type": "code",
   "execution_count": 20,
   "metadata": {},
   "outputs": [
    {
     "name": "stdout",
     "output_type": "stream",
     "text": [
      "keywordabcfghijlmnpqstuvxz\n",
      "Wall time: 997 µs\n"
     ]
    }
   ],
   "source": [
    "%%time\n",
    "valid_letters='abcdefghijklmnopqrstuvwxyz'\n",
    "user_key='keyword'\n",
    "key=''\n",
    "\n",
    "cipher=[]\n",
    "for char in user_key:\n",
    "    if char in valid_letters:\n",
    "            key+=char\n",
    "for char in valid_letters:\n",
    "    if char not in key:\n",
    "        key+=char\n",
    "print(key)\n",
    "def decrypt(encrypted_text):\n",
    "    new_string=''\n",
    "    for char in encrypted_text:\n",
    "        if char in valid_letters:\n",
    "            new_string+=char\n",
    "    index_values=[key.index(char) for char in new_string]\n",
    "    print(index_values)\n",
    "    return \"\".join(valid_letters[indexkey] for indexkey in index_values)\n"
   ]
  }
 ],
 "metadata": {
  "kernelspec": {
   "display_name": "Python 3",
   "language": "python",
   "name": "python3"
  },
  "language_info": {
   "codemirror_mode": {
    "name": "ipython",
    "version": 3
   },
   "file_extension": ".py",
   "mimetype": "text/x-python",
   "name": "python",
   "nbconvert_exporter": "python",
   "pygments_lexer": "ipython3",
   "version": "3.8.5"
  },
  "varInspector": {
   "cols": {
    "lenName": 16,
    "lenType": 16,
    "lenVar": 40
   },
   "kernels_config": {
    "python": {
     "delete_cmd_postfix": "",
     "delete_cmd_prefix": "del ",
     "library": "var_list.py",
     "varRefreshCmd": "print(var_dic_list())"
    },
    "r": {
     "delete_cmd_postfix": ") ",
     "delete_cmd_prefix": "rm(",
     "library": "var_list.r",
     "varRefreshCmd": "cat(var_dic_list()) "
    }
   },
   "types_to_exclude": [
    "module",
    "function",
    "builtin_function_or_method",
    "instance",
    "_Feature"
   ],
   "window_display": true
  }
 },
 "nbformat": 4,
 "nbformat_minor": 4
}
